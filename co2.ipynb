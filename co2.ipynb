{
  "nbformat": 4,
  "nbformat_minor": 0,
  "metadata": {
    "colab": {
      "provenance": []
    },
    "kernelspec": {
      "name": "python3",
      "display_name": "Python 3"
    },
    "language_info": {
      "name": "python"
    }
  },
  "cells": [
    {
      "cell_type": "code",
      "metadata": {
        "colab": {
          "base_uri": "https://localhost:8080/"
        },
        "id": "_MiSNXo0TC8L",
        "outputId": "50ea62a1-42a5-4e6b-d05a-f60dd0e4dedf"
      },
      "source": [
        "import numpy as np\n",
        "#creating random array with 5 rows and 10 columns\n",
        "a= np.random.random((5,10))\n",
        "a"
      ],
      "execution_count": null,
      "outputs": [
        {
          "output_type": "execute_result",
          "data": {
            "text/plain": [
              "array([[0.71010364, 0.11372562, 0.39853957, 0.19557411, 0.88098505,\n",
              "        0.14960693, 0.25578694, 0.28132059, 0.41626966, 0.14432765],\n",
              "       [0.25320039, 0.59087629, 0.91506518, 0.7916776 , 0.17547563,\n",
              "        0.02868107, 0.11873963, 0.07277105, 0.79826927, 0.80134765],\n",
              "       [0.96135986, 0.38475509, 0.78897636, 0.08783754, 0.23014795,\n",
              "        0.57358492, 0.12269871, 0.85261044, 0.60811712, 0.8653765 ],\n",
              "       [0.80387199, 0.31554734, 0.37258702, 0.09253071, 0.74934673,\n",
              "        0.01639462, 0.32273354, 0.25108769, 0.57320587, 0.84541073],\n",
              "       [0.73779213, 0.66936473, 0.14296928, 0.38685333, 0.24553855,\n",
              "        0.09554176, 0.96705208, 0.87604545, 0.25967097, 0.30040207]])"
            ]
          },
          "metadata": {},
          "execution_count": 8
        }
      ]
    },
    {
      "cell_type": "code",
      "metadata": {
        "colab": {
          "base_uri": "https://localhost:8080/"
        },
        "id": "NdHbGYnNV78W",
        "outputId": "a8771cf7-aa2d-425c-ac8c-b63c3f1f3368"
      },
      "source": [
        "#finding max\n",
        "a.max()"
      ],
      "execution_count": null,
      "outputs": [
        {
          "output_type": "execute_result",
          "data": {
            "text/plain": [
              "0.9670520764310215"
            ]
          },
          "metadata": {},
          "execution_count": 9
        }
      ]
    },
    {
      "cell_type": "code",
      "metadata": {
        "colab": {
          "base_uri": "https://localhost:8080/"
        },
        "id": "pWZmTMpnV6ML",
        "outputId": "f507e971-9f04-45d6-fb8e-a5d94c4761b5"
      },
      "source": [
        "#finding min\n",
        "a.min()"
      ],
      "execution_count": null,
      "outputs": [
        {
          "output_type": "execute_result",
          "data": {
            "text/plain": [
              "0.016394621885505778"
            ]
          },
          "metadata": {},
          "execution_count": 10
        }
      ]
    },
    {
      "cell_type": "code",
      "metadata": {
        "colab": {
          "base_uri": "https://localhost:8080/"
        },
        "id": "ssMHAG3LV3Bt",
        "outputId": "8e72cabf-5bd4-4337-c869-f53d979fcf1d"
      },
      "source": [
        "#finding mean\n",
        "a.mean()"
      ],
      "execution_count": null,
      "outputs": [
        {
          "output_type": "execute_result",
          "data": {
            "text/plain": [
              "0.45183509201065775"
            ]
          },
          "metadata": {},
          "execution_count": 11
        }
      ]
    },
    {
      "cell_type": "code",
      "metadata": {
        "colab": {
          "base_uri": "https://localhost:8080/"
        },
        "id": "YmhFruEqV0Wz",
        "outputId": "9a84eb0b-356b-4406-f015-930f017dab5f"
      },
      "source": [
        "#finding sum\n",
        "a.sum()"
      ],
      "execution_count": null,
      "outputs": [
        {
          "output_type": "execute_result",
          "data": {
            "text/plain": [
              "22.591754600532887"
            ]
          },
          "metadata": {},
          "execution_count": 12
        }
      ]
    },
    {
      "cell_type": "code",
      "metadata": {
        "colab": {
          "base_uri": "https://localhost:8080/"
        },
        "id": "RykynzbwWEGl",
        "outputId": "eeacb3b4-cea6-485f-91b9-85e3906b9dd7"
      },
      "source": [
        "#transposing a creating array b\n",
        "b= np.transpose(a)\n",
        "b"
      ],
      "execution_count": null,
      "outputs": [
        {
          "output_type": "execute_result",
          "data": {
            "text/plain": [
              "array([[0.71010364, 0.25320039, 0.96135986, 0.80387199, 0.73779213],\n",
              "       [0.11372562, 0.59087629, 0.38475509, 0.31554734, 0.66936473],\n",
              "       [0.39853957, 0.91506518, 0.78897636, 0.37258702, 0.14296928],\n",
              "       [0.19557411, 0.7916776 , 0.08783754, 0.09253071, 0.38685333],\n",
              "       [0.88098505, 0.17547563, 0.23014795, 0.74934673, 0.24553855],\n",
              "       [0.14960693, 0.02868107, 0.57358492, 0.01639462, 0.09554176],\n",
              "       [0.25578694, 0.11873963, 0.12269871, 0.32273354, 0.96705208],\n",
              "       [0.28132059, 0.07277105, 0.85261044, 0.25108769, 0.87604545],\n",
              "       [0.41626966, 0.79826927, 0.60811712, 0.57320587, 0.25967097],\n",
              "       [0.14432765, 0.80134765, 0.8653765 , 0.84541073, 0.30040207]])"
            ]
          },
          "metadata": {},
          "execution_count": 14
        }
      ]
    },
    {
      "cell_type": "code",
      "metadata": {
        "id": "k4wLxjwHWK7W"
      },
      "source": [
        "#extracting row 1 from array b\n",
        "row_1 = b[0]\n",
        "row_1"
      ],
      "execution_count": null,
      "outputs": []
    },
    {
      "cell_type": "code",
      "metadata": {
        "colab": {
          "base_uri": "https://localhost:8080/"
        },
        "id": "TD71Cn4AWe5k",
        "outputId": "0ca5f062-7f61-4160-aaa8-b20560c09aec"
      },
      "source": [
        "#extracting row 2,3 from array b\n",
        "row_2_3 = b[1:3]\n",
        "row_2_3"
      ],
      "execution_count": null,
      "outputs": [
        {
          "output_type": "execute_result",
          "data": {
            "text/plain": [
              "array([[0.11372562, 0.59087629, 0.38475509, 0.31554734, 0.66936473],\n",
              "       [0.39853957, 0.91506518, 0.78897636, 0.37258702, 0.14296928]])"
            ]
          },
          "metadata": {},
          "execution_count": 19
        }
      ]
    },
    {
      "cell_type": "code",
      "metadata": {
        "colab": {
          "base_uri": "https://localhost:8080/"
        },
        "id": "aAczS39KW1yh",
        "outputId": "58a5371a-8ad1-4a9f-df4f-b490240c0475"
      },
      "source": [
        "#extracting col 1\n",
        "col_1 = b[:,0]\n",
        "col_1"
      ],
      "execution_count": null,
      "outputs": [
        {
          "output_type": "execute_result",
          "data": {
            "text/plain": [
              "array([0.71010364, 0.11372562, 0.39853957, 0.19557411, 0.88098505,\n",
              "       0.14960693, 0.25578694, 0.28132059, 0.41626966, 0.14432765])"
            ]
          },
          "metadata": {},
          "execution_count": 21
        }
      ]
    },
    {
      "cell_type": "code",
      "metadata": {
        "colab": {
          "base_uri": "https://localhost:8080/"
        },
        "id": "i2IoEo4PXWFU",
        "outputId": "c1d9432f-f09e-4f80-b5fb-7b2484ed9a10"
      },
      "source": [
        "#extracting col 2\n",
        "col_2 = b[:,1]\n",
        "col_2"
      ],
      "execution_count": null,
      "outputs": [
        {
          "output_type": "execute_result",
          "data": {
            "text/plain": [
              "array([0.25320039, 0.59087629, 0.91506518, 0.7916776 , 0.17547563,\n",
              "       0.02868107, 0.11873963, 0.07277105, 0.79826927, 0.80134765])"
            ]
          },
          "metadata": {},
          "execution_count": 22
        }
      ]
    },
    {
      "cell_type": "code",
      "metadata": {
        "colab": {
          "base_uri": "https://localhost:8080/"
        },
        "id": "BiW8Qb6sXdDJ",
        "outputId": "baf7a40c-c60c-4c57-d25a-a85944a1eafb"
      },
      "source": [
        "#sorting col 1 in ascending order and storing in new variable\n",
        "col_1_1=np.sort(col_1)\n",
        "col_1_1"
      ],
      "execution_count": null,
      "outputs": [
        {
          "output_type": "execute_result",
          "data": {
            "text/plain": [
              "array([0.11372562, 0.14432765, 0.14960693, 0.19557411, 0.25578694,\n",
              "       0.28132059, 0.39853957, 0.41626966, 0.71010364, 0.88098505])"
            ]
          },
          "metadata": {},
          "execution_count": 31
        }
      ]
    },
    {
      "cell_type": "code",
      "metadata": {
        "id": "ervGxB09Xk8o"
      },
      "source": [
        "#sorting col 2 in ascending order and storing in new variable\n",
        "col_2_2 =np.sort(col_2)"
      ],
      "execution_count": null,
      "outputs": []
    },
    {
      "cell_type": "markdown",
      "metadata": {
        "id": "7ne0EHlDX66p"
      },
      "source": [
        "QUESTION 2"
      ]
    },
    {
      "cell_type": "code",
      "metadata": {
        "id": "4cancedrX86o"
      },
      "source": [
        "import matplotlib.pyplot as plt"
      ],
      "execution_count": null,
      "outputs": []
    },
    {
      "cell_type": "code",
      "metadata": {
        "colab": {
          "base_uri": "https://localhost:8080/",
          "height": 297
        },
        "id": "YHxrycPuYJP1",
        "outputId": "fe7a3c07-7fa3-4a6b-f25c-5215a1c7a535"
      },
      "source": [
        "#creating 1 fig with 2 subplots\n",
        "fig, (ax1,ax2) = plt.subplots(2)\n",
        "#creating linear plot with blue dots on the first plot (ax1)\n",
        "ax1.plot(col_1_1, col_2_2, 'bo', label ='Linear Plot')\n",
        "#setting title of plot 1\n",
        "ax1.set_title(\"Rebecca Dineen Linear Plot\")\n",
        "#specifying cale as linear\n",
        "ax1.set_yscale('linear')\n",
        "#setting the y label\n",
        "ax1.set_ylabel(\"y data linear scale\")\n",
        "#setting x label\n",
        "ax1.set_xlabel('x data')\n",
        "#adding in plot legend\n",
        "ax1.legend()\n",
        "#adding grid to plot\n",
        "ax1.grid(True)\n",
        "\n",
        "ax2.plot(col_1_1, col_2_2, 'r--',label = 'Log Plot')\n",
        "ax2.set_title(\"Rebecca Dineen Log Plot\")\n",
        "ax2.set_yscale('log')\n",
        "ax2.set_ylabel(\"y data log scale\")\n",
        "ax2.set_xlabel('x data')\n",
        "ax2.legend()\n",
        "ax2.grid(True)\n",
        "\n",
        "fig.tight_layout()"
      ],
      "execution_count": null,
      "outputs": [
        {
          "output_type": "display_data",
          "data": {
            "image/png": "[encoded data removed]",
            "text/plain": [
              "<Figure size 432x288 with 2 Axes>"
            ]
          },
          "metadata": {
            "needs_background": "light"
          }
        }
      ]
    }
  ]
}