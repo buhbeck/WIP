{
  "nbformat": 4,
  "nbformat_minor": 5,
  "metadata": {
    "kernelspec": {
      "display_name": "Python 3",
      "language": "python",
      "name": "python3"
    },
    "language_info": {
      "codemirror_mode": {
        "name": "ipython",
        "version": 3
      },
      "file_extension": ".py",
      "mimetype": "text/x-python",
      "name": "python",
      "nbconvert_exporter": "python",
      "pygments_lexer": "ipython3",
      "version": "3.8.8"
    },
    "colab": {
      "provenance": []
    }
  },
  "cells": [
    {
      "cell_type": "code",
      "metadata": {
        "id": "b104793f"
      },
      "source": [
        "import pandas as pd"
      ],
      "id": "b104793f",
      "execution_count": null,
      "outputs": []
    },
    {
      "cell_type": "code",
      "metadata": {
        "id": "00a61737",
        "outputId": "20311ce2-95b0-4f96-a6f5-41589edb9f01"
      },
      "source": [
        "co2_df = pd.read_csv(\"co2.csv\")\n",
        "co2_df.sample(10)"
      ],
      "id": "00a61737",
      "execution_count": null,
      "outputs": [
        {
          "data": {
            "text/html": [
              "<div>\n",
              "<style scoped>\n",
              "    .dataframe tbody tr th:only-of-type {\n",
              "        vertical-align: middle;\n",
              "    }\n",
              "\n",
              "    .dataframe tbody tr th {\n",
              "        vertical-align: top;\n",
              "    }\n",
              "\n",
              "    .dataframe thead th {\n",
              "        text-align: right;\n",
              "    }\n",
              "</style>\n",
              "<table border=\"1\" class=\"dataframe\">\n",
              "  <thead>\n",
              "    <tr style=\"text-align: right;\">\n",
              "      <th></th>\n",
              "      <th>Entity</th>\n",
              "      <th>Code</th>\n",
              "      <th>Year</th>\n",
              "      <th>Annual CO2 emissions (per capita)</th>\n",
              "    </tr>\n",
              "  </thead>\n",
              "  <tbody>\n",
              "    <tr>\n",
              "      <th>675</th>\n",
              "      <td>Argentina</td>\n",
              "      <td>ARG</td>\n",
              "      <td>1971</td>\n",
              "      <td>3.6624</td>\n",
              "    </tr>\n",
              "    <tr>\n",
              "      <th>22049</th>\n",
              "      <td>Venezuela</td>\n",
              "      <td>VEN</td>\n",
              "      <td>1940</td>\n",
              "      <td>2.9806</td>\n",
              "    </tr>\n",
              "    <tr>\n",
              "      <th>15465</th>\n",
              "      <td>Oceania</td>\n",
              "      <td>NaN</td>\n",
              "      <td>1902</td>\n",
              "      <td>3.0958</td>\n",
              "    </tr>\n",
              "    <tr>\n",
              "      <th>21157</th>\n",
              "      <td>Ukraine</td>\n",
              "      <td>UKR</td>\n",
              "      <td>1970</td>\n",
              "      <td>9.2517</td>\n",
              "    </tr>\n",
              "    <tr>\n",
              "      <th>17188</th>\n",
              "      <td>Saint Lucia</td>\n",
              "      <td>LCA</td>\n",
              "      <td>1952</td>\n",
              "      <td>0.0866</td>\n",
              "    </tr>\n",
              "    <tr>\n",
              "      <th>5582</th>\n",
              "      <td>Denmark</td>\n",
              "      <td>DNK</td>\n",
              "      <td>2007</td>\n",
              "      <td>9.9897</td>\n",
              "    </tr>\n",
              "    <tr>\n",
              "      <th>11584</th>\n",
              "      <td>Latvia</td>\n",
              "      <td>LVA</td>\n",
              "      <td>1917</td>\n",
              "      <td>0.2310</td>\n",
              "    </tr>\n",
              "    <tr>\n",
              "      <th>19269</th>\n",
              "      <td>Sudan</td>\n",
              "      <td>SDN</td>\n",
              "      <td>2015</td>\n",
              "      <td>0.5183</td>\n",
              "    </tr>\n",
              "    <tr>\n",
              "      <th>13048</th>\n",
              "      <td>Moldova</td>\n",
              "      <td>MDA</td>\n",
              "      <td>1872</td>\n",
              "      <td>0.0355</td>\n",
              "    </tr>\n",
              "    <tr>\n",
              "      <th>6615</th>\n",
              "      <td>Eritrea</td>\n",
              "      <td>ERI</td>\n",
              "      <td>2004</td>\n",
              "      <td>0.2813</td>\n",
              "    </tr>\n",
              "  </tbody>\n",
              "</table>\n",
              "</div>"
            ],
            "text/plain": [
              "            Entity Code  Year  Annual CO2 emissions (per capita)\n",
              "675      Argentina  ARG  1971                             3.6624\n",
              "22049    Venezuela  VEN  1940                             2.9806\n",
              "15465      Oceania  NaN  1902                             3.0958\n",
              "21157      Ukraine  UKR  1970                             9.2517\n",
              "17188  Saint Lucia  LCA  1952                             0.0866\n",
              "5582       Denmark  DNK  2007                             9.9897\n",
              "11584       Latvia  LVA  1917                             0.2310\n",
              "19269        Sudan  SDN  2015                             0.5183\n",
              "13048      Moldova  MDA  1872                             0.0355\n",
              "6615       Eritrea  ERI  2004                             0.2813"
            ]
          },
          "execution_count": 2,
          "metadata": {},
          "output_type": "execute_result"
        }
      ]
    },
    {
      "cell_type": "code",
      "metadata": {
        "id": "f96e687e",
        "outputId": "9a35ebbd-8996-488c-a97c-b62aeeb4dfe9",
        "colab": {
          "base_uri": "https://localhost:8080/",
          "height": 166
        }
      },
      "source": [
        "table = pd.pivot_table(co2_df, values='Annual CO2 emissions (per capita)', index=['Year'], columns=['Entity'])"
      ],
      "id": "f96e687e",
      "execution_count": null,
      "outputs": [
        {
          "output_type": "error",
          "ename": "NameError",
          "evalue": "ignored",
          "traceback": [
            "\u001b[0;31m---------------------------------------------------------------------------\u001b[0m",
            "\u001b[0;31mNameError\u001b[0m                                 Traceback (most recent call last)",
            "\u001b[0;32m<ipython-input-1-e94c269fbda8>\u001b[0m in \u001b[0;36m<module>\u001b[0;34m()\u001b[0m\n\u001b[0;32m----> 1\u001b[0;31m \u001b[0mtable\u001b[0m \u001b[0;34m=\u001b[0m \u001b[0mpd\u001b[0m\u001b[0;34m.\u001b[0m\u001b[0mpivot_table\u001b[0m\u001b[0;34m(\u001b[0m\u001b[0mco2_df\u001b[0m\u001b[0;34m,\u001b[0m \u001b[0mvalues\u001b[0m\u001b[0;34m=\u001b[0m\u001b[0;34m'Annual CO2 emissions (per capita)'\u001b[0m\u001b[0;34m,\u001b[0m \u001b[0mindex\u001b[0m\u001b[0;34m=\u001b[0m\u001b[0;34m[\u001b[0m\u001b[0;34m'Year'\u001b[0m\u001b[0;34m]\u001b[0m\u001b[0;34m,\u001b[0m \u001b[0mcolumns\u001b[0m\u001b[0;34m=\u001b[0m\u001b[0;34m[\u001b[0m\u001b[0;34m'Entity'\u001b[0m\u001b[0;34m]\u001b[0m\u001b[0;34m)\u001b[0m\u001b[0;34m\u001b[0m\u001b[0;34m\u001b[0m\u001b[0m\n\u001b[0m",
            "\u001b[0;31mNameError\u001b[0m: name 'pd' is not defined"
          ]
        }
      ]
    },
    {
      "cell_type": "code",
      "metadata": {
        "id": "1bf1e484"
      },
      "source": [
        "five_countries_df = table[['Uruguay', 'Argentina', 'United States', 'Belgium', 'France']]"
      ],
      "id": "1bf1e484",
      "execution_count": null,
      "outputs": []
    },
    {
      "cell_type": "code",
      "metadata": {
        "id": "fc776ade"
      },
      "source": [
        "five_countries_df_refined = five_countries_df.tail(70)"
      ],
      "id": "fc776ade",
      "execution_count": null,
      "outputs": []
    },
    {
      "cell_type": "code",
      "metadata": {
        "id": "d4054240",
        "outputId": "694fabf3-89a3-42a9-c8e1-d7efb57f079e"
      },
      "source": [
        "five_countries_df_refined.describe()"
      ],
      "id": "d4054240",
      "execution_count": null,
      "outputs": [
        {
          "data": {
            "text/html": [
              "<div>\n",
              "<style scoped>\n",
              "    .dataframe tbody tr th:only-of-type {\n",
              "        vertical-align: middle;\n",
              "    }\n",
              "\n",
              "    .dataframe tbody tr th {\n",
              "        vertical-align: top;\n",
              "    }\n",
              "\n",
              "    .dataframe thead th {\n",
              "        text-align: right;\n",
              "    }\n",
              "</style>\n",
              "<table border=\"1\" class=\"dataframe\">\n",
              "  <thead>\n",
              "    <tr style=\"text-align: right;\">\n",
              "      <th>Entity</th>\n",
              "      <th>Uruguay</th>\n",
              "      <th>Argentina</th>\n",
              "      <th>United States</th>\n",
              "      <th>Belgium</th>\n",
              "      <th>France</th>\n",
              "    </tr>\n",
              "  </thead>\n",
              "  <tbody>\n",
              "    <tr>\n",
              "      <th>count</th>\n",
              "      <td>70.000000</td>\n",
              "      <td>70.000000</td>\n",
              "      <td>70.000000</td>\n",
              "      <td>70.000000</td>\n",
              "      <td>70.000000</td>\n",
              "    </tr>\n",
              "    <tr>\n",
              "      <th>mean</th>\n",
              "      <td>1.734651</td>\n",
              "      <td>3.470029</td>\n",
              "      <td>18.685741</td>\n",
              "      <td>11.229150</td>\n",
              "      <td>6.972569</td>\n",
              "    </tr>\n",
              "    <tr>\n",
              "      <th>std</th>\n",
              "      <td>0.336011</td>\n",
              "      <td>0.779086</td>\n",
              "      <td>2.140469</td>\n",
              "      <td>1.521954</td>\n",
              "      <td>1.315946</td>\n",
              "    </tr>\n",
              "    <tr>\n",
              "      <th>min</th>\n",
              "      <td>1.044300</td>\n",
              "      <td>1.756200</td>\n",
              "      <td>14.717000</td>\n",
              "      <td>8.627500</td>\n",
              "      <td>4.838900</td>\n",
              "    </tr>\n",
              "    <tr>\n",
              "      <th>25%</th>\n",
              "      <td>1.544000</td>\n",
              "      <td>2.895725</td>\n",
              "      <td>16.504225</td>\n",
              "      <td>10.023650</td>\n",
              "      <td>5.995700</td>\n",
              "    </tr>\n",
              "    <tr>\n",
              "      <th>50%</th>\n",
              "      <td>1.718750</td>\n",
              "      <td>3.627900</td>\n",
              "      <td>18.927650</td>\n",
              "      <td>11.208600</td>\n",
              "      <td>6.976000</td>\n",
              "    </tr>\n",
              "    <tr>\n",
              "      <th>75%</th>\n",
              "      <td>1.990100</td>\n",
              "      <td>3.970675</td>\n",
              "      <td>20.630325</td>\n",
              "      <td>12.322325</td>\n",
              "      <td>7.473075</td>\n",
              "    </tr>\n",
              "    <tr>\n",
              "      <th>max</th>\n",
              "      <td>2.543100</td>\n",
              "      <td>4.693200</td>\n",
              "      <td>22.132500</td>\n",
              "      <td>14.262200</td>\n",
              "      <td>9.956700</td>\n",
              "    </tr>\n",
              "  </tbody>\n",
              "</table>\n",
              "</div>"
            ],
            "text/plain": [
              "Entity    Uruguay  Argentina  United States    Belgium     France\n",
              "count   70.000000  70.000000      70.000000  70.000000  70.000000\n",
              "mean     1.734651   3.470029      18.685741  11.229150   6.972569\n",
              "std      0.336011   0.779086       2.140469   1.521954   1.315946\n",
              "min      1.044300   1.756200      14.717000   8.627500   4.838900\n",
              "25%      1.544000   2.895725      16.504225  10.023650   5.995700\n",
              "50%      1.718750   3.627900      18.927650  11.208600   6.976000\n",
              "75%      1.990100   3.970675      20.630325  12.322325   7.473075\n",
              "max      2.543100   4.693200      22.132500  14.262200   9.956700"
            ]
          },
          "execution_count": 6,
          "metadata": {},
          "output_type": "execute_result"
        }
      ]
    },
    {
      "cell_type": "code",
      "metadata": {
        "id": "1b4e7ed2"
      },
      "source": [
        "import matplotlib.pyplot as plt"
      ],
      "id": "1b4e7ed2",
      "execution_count": null,
      "outputs": []
    },
    {
      "cell_type": "code",
      "metadata": {
        "id": "93d5011a",
        "outputId": "948fcfef-2e95-4f54-aa9b-49fe487060f5"
      },
      "source": [
        "five_countries_df_refined['year'] = five_countries_df_refined.index"
      ],
      "id": "93d5011a",
      "execution_count": null,
      "outputs": [
        {
          "name": "stderr",
          "output_type": "stream",
          "text": [
            "<ipython-input-8-3d6129ac63cf>:1: SettingWithCopyWarning: \n",
            "A value is trying to be set on a copy of a slice from a DataFrame.\n",
            "Try using .loc[row_indexer,col_indexer] = value instead\n",
            "\n",
            "See the caveats in the documentation: https://pandas.pydata.org/pandas-docs/stable/user_guide/indexing.html#returning-a-view-versus-a-copy\n",
            "  five_countries_df_refined['year'] = five_countries_df_refined.index\n"
          ]
        }
      ]
    },
    {
      "cell_type": "code",
      "metadata": {
        "id": "356bb062",
        "outputId": "ad407424-b6cd-47af-b7c0-c64e1618fa5b"
      },
      "source": [
        "five_countries_df_refined.plot(kind='line', x='year', y=['Uruguay','France','Belgium','United States','Argentina'], figsize=(10,7))\n",
        "plt.ylabel('CO2 emissions (per capita)')\n",
        "plt.title('Annual CO2 emissions (per capita) 1950-2019')\n",
        "plt.show()"
      ],
      "id": "356bb062",
      "execution_count": null,
      "outputs": [
        {
          "data": {
            "image/png": "[encoded data removed]",
            "text/plain": [
              "<Figure size 720x504 with 1 Axes>"
            ]
          },
          "metadata": {
            "needs_background": "light"
          },
          "output_type": "display_data"
        }
      ]
    }
  ]
}